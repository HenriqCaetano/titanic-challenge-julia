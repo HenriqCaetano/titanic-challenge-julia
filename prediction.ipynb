{
 "cells": [
  {
   "cell_type": "code",
   "execution_count": null,
   "metadata": {},
   "outputs": [],
   "source": [
    "# resolving modules\n",
    "import Pkg\n",
    "Pkg.add(\"DataFrames\")\n",
    "Pkg.add(\"CSV\")\n",
    "Pkg.add(\"Flux\")"
   ]
  },
  {
   "cell_type": "code",
   "execution_count": 39,
   "metadata": {},
   "outputs": [],
   "source": [
    "#getting modules\n",
    "using DataFrames\n",
    "using CSV\n",
    "using Flux\n",
    "using Statistics, LinearAlgebra"
   ]
  },
  {
   "cell_type": "code",
   "execution_count": 34,
   "metadata": {},
   "outputs": [
    {
     "data": {
      "text/html": [
       "<div><div style = \"float: left;\"><span>81×7 DataFrame</span></div><div style = \"float: right;\"><span style = \"font-style: italic;\">56 rows omitted</span></div><div style = \"clear: both;\"></div></div><div class = \"data-frame\" style = \"overflow-x: scroll;\"><table class = \"data-frame\" style = \"margin-bottom: 6px;\"><thead><tr class = \"header\"><th class = \"rowNumber\" style = \"font-weight: bold; text-align: right;\">Row</th><th style = \"text-align: left;\">variable</th><th style = \"text-align: left;\">mean</th><th style = \"text-align: left;\">min</th><th style = \"text-align: left;\">median</th><th style = \"text-align: left;\">max</th><th style = \"text-align: left;\">nmissing</th><th style = \"text-align: left;\">eltype</th></tr><tr class = \"subheader headerLastRow\"><th class = \"rowNumber\" style = \"font-weight: bold; text-align: right;\"></th><th title = \"Symbol\" style = \"text-align: left;\">Symbol</th><th title = \"Union{Nothing, Float64}\" style = \"text-align: left;\">Union…</th><th title = \"Any\" style = \"text-align: left;\">Any</th><th title = \"Union{Nothing, Float64}\" style = \"text-align: left;\">Union…</th><th title = \"Any\" style = \"text-align: left;\">Any</th><th title = \"Int64\" style = \"text-align: left;\">Int64</th><th title = \"DataType\" style = \"text-align: left;\">DataType</th></tr></thead><tbody><tr><td class = \"rowNumber\" style = \"font-weight: bold; text-align: right;\">1</td><td style = \"text-align: left;\">Id</td><td style = \"text-align: left;\">730.5</td><td style = \"text-align: left;\">1</td><td style = \"text-align: left;\">730.5</td><td style = \"text-align: left;\">1460</td><td style = \"text-align: right;\">0</td><td style = \"text-align: left;\">Int64</td></tr><tr><td class = \"rowNumber\" style = \"font-weight: bold; text-align: right;\">2</td><td style = \"text-align: left;\">MSSubClass</td><td style = \"text-align: left;\">56.8973</td><td style = \"text-align: left;\">20</td><td style = \"text-align: left;\">50.0</td><td style = \"text-align: left;\">190</td><td style = \"text-align: right;\">0</td><td style = \"text-align: left;\">Int64</td></tr><tr><td class = \"rowNumber\" style = \"font-weight: bold; text-align: right;\">3</td><td style = \"text-align: left;\">MSZoning</td><td style = \"font-style: italic; text-align: left;\"></td><td style = \"text-align: left;\">C (all)</td><td style = \"font-style: italic; text-align: left;\"></td><td style = \"text-align: left;\">RM</td><td style = \"text-align: right;\">0</td><td style = \"text-align: left;\">String7</td></tr><tr><td class = \"rowNumber\" style = \"font-weight: bold; text-align: right;\">4</td><td style = \"text-align: left;\">LotFrontage</td><td style = \"font-style: italic; text-align: left;\"></td><td style = \"text-align: left;\">100</td><td style = \"font-style: italic; text-align: left;\"></td><td style = \"text-align: left;\">NA</td><td style = \"text-align: right;\">0</td><td style = \"text-align: left;\">String3</td></tr><tr><td class = \"rowNumber\" style = \"font-weight: bold; text-align: right;\">5</td><td style = \"text-align: left;\">LotArea</td><td style = \"text-align: left;\">10516.8</td><td style = \"text-align: left;\">1300</td><td style = \"text-align: left;\">9478.5</td><td style = \"text-align: left;\">215245</td><td style = \"text-align: right;\">0</td><td style = \"text-align: left;\">Int64</td></tr><tr><td class = \"rowNumber\" style = \"font-weight: bold; text-align: right;\">6</td><td style = \"text-align: left;\">Street</td><td style = \"font-style: italic; text-align: left;\"></td><td style = \"text-align: left;\">Grvl</td><td style = \"font-style: italic; text-align: left;\"></td><td style = \"text-align: left;\">Pave</td><td style = \"text-align: right;\">0</td><td style = \"text-align: left;\">String7</td></tr><tr><td class = \"rowNumber\" style = \"font-weight: bold; text-align: right;\">7</td><td style = \"text-align: left;\">Alley</td><td style = \"font-style: italic; text-align: left;\"></td><td style = \"text-align: left;\">Grvl</td><td style = \"font-style: italic; text-align: left;\"></td><td style = \"text-align: left;\">Pave</td><td style = \"text-align: right;\">0</td><td style = \"text-align: left;\">String7</td></tr><tr><td class = \"rowNumber\" style = \"font-weight: bold; text-align: right;\">8</td><td style = \"text-align: left;\">LotShape</td><td style = \"font-style: italic; text-align: left;\"></td><td style = \"text-align: left;\">IR1</td><td style = \"font-style: italic; text-align: left;\"></td><td style = \"text-align: left;\">Reg</td><td style = \"text-align: right;\">0</td><td style = \"text-align: left;\">String3</td></tr><tr><td class = \"rowNumber\" style = \"font-weight: bold; text-align: right;\">9</td><td style = \"text-align: left;\">LandContour</td><td style = \"font-style: italic; text-align: left;\"></td><td style = \"text-align: left;\">Bnk</td><td style = \"font-style: italic; text-align: left;\"></td><td style = \"text-align: left;\">Lvl</td><td style = \"text-align: right;\">0</td><td style = \"text-align: left;\">String3</td></tr><tr><td class = \"rowNumber\" style = \"font-weight: bold; text-align: right;\">10</td><td style = \"text-align: left;\">Utilities</td><td style = \"font-style: italic; text-align: left;\"></td><td style = \"text-align: left;\">AllPub</td><td style = \"font-style: italic; text-align: left;\"></td><td style = \"text-align: left;\">NoSeWa</td><td style = \"text-align: right;\">0</td><td style = \"text-align: left;\">String7</td></tr><tr><td class = \"rowNumber\" style = \"font-weight: bold; text-align: right;\">11</td><td style = \"text-align: left;\">LotConfig</td><td style = \"font-style: italic; text-align: left;\"></td><td style = \"text-align: left;\">Corner</td><td style = \"font-style: italic; text-align: left;\"></td><td style = \"text-align: left;\">Inside</td><td style = \"text-align: right;\">0</td><td style = \"text-align: left;\">String7</td></tr><tr><td class = \"rowNumber\" style = \"font-weight: bold; text-align: right;\">12</td><td style = \"text-align: left;\">LandSlope</td><td style = \"font-style: italic; text-align: left;\"></td><td style = \"text-align: left;\">Gtl</td><td style = \"font-style: italic; text-align: left;\"></td><td style = \"text-align: left;\">Sev</td><td style = \"text-align: right;\">0</td><td style = \"text-align: left;\">String3</td></tr><tr><td class = \"rowNumber\" style = \"font-weight: bold; text-align: right;\">13</td><td style = \"text-align: left;\">Neighborhood</td><td style = \"font-style: italic; text-align: left;\"></td><td style = \"text-align: left;\">Blmngtn</td><td style = \"font-style: italic; text-align: left;\"></td><td style = \"text-align: left;\">Veenker</td><td style = \"text-align: right;\">0</td><td style = \"text-align: left;\">String7</td></tr><tr><td style = \"text-align: right;\">&vellip;</td><td style = \"text-align: right;\">&vellip;</td><td style = \"text-align: right;\">&vellip;</td><td style = \"text-align: right;\">&vellip;</td><td style = \"text-align: right;\">&vellip;</td><td style = \"text-align: right;\">&vellip;</td><td style = \"text-align: right;\">&vellip;</td><td style = \"text-align: right;\">&vellip;</td></tr><tr><td class = \"rowNumber\" style = \"font-weight: bold; text-align: right;\">70</td><td style = \"text-align: left;\">3SsnPorch</td><td style = \"text-align: left;\">3.40959</td><td style = \"text-align: left;\">0</td><td style = \"text-align: left;\">0.0</td><td style = \"text-align: left;\">508</td><td style = \"text-align: right;\">0</td><td style = \"text-align: left;\">Int64</td></tr><tr><td class = \"rowNumber\" style = \"font-weight: bold; text-align: right;\">71</td><td style = \"text-align: left;\">ScreenPorch</td><td style = \"text-align: left;\">15.061</td><td style = \"text-align: left;\">0</td><td style = \"text-align: left;\">0.0</td><td style = \"text-align: left;\">480</td><td style = \"text-align: right;\">0</td><td style = \"text-align: left;\">Int64</td></tr><tr><td class = \"rowNumber\" style = \"font-weight: bold; text-align: right;\">72</td><td style = \"text-align: left;\">PoolArea</td><td style = \"text-align: left;\">2.7589</td><td style = \"text-align: left;\">0</td><td style = \"text-align: left;\">0.0</td><td style = \"text-align: left;\">738</td><td style = \"text-align: right;\">0</td><td style = \"text-align: left;\">Int64</td></tr><tr><td class = \"rowNumber\" style = \"font-weight: bold; text-align: right;\">73</td><td style = \"text-align: left;\">PoolQC</td><td style = \"font-style: italic; text-align: left;\"></td><td style = \"text-align: left;\">Ex</td><td style = \"font-style: italic; text-align: left;\"></td><td style = \"text-align: left;\">NA</td><td style = \"text-align: right;\">0</td><td style = \"text-align: left;\">String3</td></tr><tr><td class = \"rowNumber\" style = \"font-weight: bold; text-align: right;\">74</td><td style = \"text-align: left;\">Fence</td><td style = \"font-style: italic; text-align: left;\"></td><td style = \"text-align: left;\">GdPrv</td><td style = \"font-style: italic; text-align: left;\"></td><td style = \"text-align: left;\">NA</td><td style = \"text-align: right;\">0</td><td style = \"text-align: left;\">String7</td></tr><tr><td class = \"rowNumber\" style = \"font-weight: bold; text-align: right;\">75</td><td style = \"text-align: left;\">MiscFeature</td><td style = \"font-style: italic; text-align: left;\"></td><td style = \"text-align: left;\">Gar2</td><td style = \"font-style: italic; text-align: left;\"></td><td style = \"text-align: left;\">TenC</td><td style = \"text-align: right;\">0</td><td style = \"text-align: left;\">String7</td></tr><tr><td class = \"rowNumber\" style = \"font-weight: bold; text-align: right;\">76</td><td style = \"text-align: left;\">MiscVal</td><td style = \"text-align: left;\">43.489</td><td style = \"text-align: left;\">0</td><td style = \"text-align: left;\">0.0</td><td style = \"text-align: left;\">15500</td><td style = \"text-align: right;\">0</td><td style = \"text-align: left;\">Int64</td></tr><tr><td class = \"rowNumber\" style = \"font-weight: bold; text-align: right;\">77</td><td style = \"text-align: left;\">MoSold</td><td style = \"text-align: left;\">6.32192</td><td style = \"text-align: left;\">1</td><td style = \"text-align: left;\">6.0</td><td style = \"text-align: left;\">12</td><td style = \"text-align: right;\">0</td><td style = \"text-align: left;\">Int64</td></tr><tr><td class = \"rowNumber\" style = \"font-weight: bold; text-align: right;\">78</td><td style = \"text-align: left;\">YrSold</td><td style = \"text-align: left;\">2007.82</td><td style = \"text-align: left;\">2006</td><td style = \"text-align: left;\">2008.0</td><td style = \"text-align: left;\">2010</td><td style = \"text-align: right;\">0</td><td style = \"text-align: left;\">Int64</td></tr><tr><td class = \"rowNumber\" style = \"font-weight: bold; text-align: right;\">79</td><td style = \"text-align: left;\">SaleType</td><td style = \"font-style: italic; text-align: left;\"></td><td style = \"text-align: left;\">COD</td><td style = \"font-style: italic; text-align: left;\"></td><td style = \"text-align: left;\">WD</td><td style = \"text-align: right;\">0</td><td style = \"text-align: left;\">String7</td></tr><tr><td class = \"rowNumber\" style = \"font-weight: bold; text-align: right;\">80</td><td style = \"text-align: left;\">SaleCondition</td><td style = \"font-style: italic; text-align: left;\"></td><td style = \"text-align: left;\">Abnorml</td><td style = \"font-style: italic; text-align: left;\"></td><td style = \"text-align: left;\">Partial</td><td style = \"text-align: right;\">0</td><td style = \"text-align: left;\">String7</td></tr><tr><td class = \"rowNumber\" style = \"font-weight: bold; text-align: right;\">81</td><td style = \"text-align: left;\">SalePrice</td><td style = \"text-align: left;\">1.80921e5</td><td style = \"text-align: left;\">34900</td><td style = \"text-align: left;\">163000.0</td><td style = \"text-align: left;\">755000</td><td style = \"text-align: right;\">0</td><td style = \"text-align: left;\">Int64</td></tr></tbody></table></div>"
      ],
      "text/latex": [
       "\\begin{tabular}{r|ccccccc}\n",
       "\t& variable & mean & min & median & max & nmissing & eltype\\\\\n",
       "\t\\hline\n",
       "\t& Symbol & Union… & Any & Union… & Any & Int64 & DataType\\\\\n",
       "\t\\hline\n",
       "\t1 & Id & 730.5 & 1 & 730.5 & 1460 & 0 & Int64 \\\\\n",
       "\t2 & MSSubClass & 56.8973 & 20 & 50.0 & 190 & 0 & Int64 \\\\\n",
       "\t3 & MSZoning &  & C (all) &  & RM & 0 & String7 \\\\\n",
       "\t4 & LotFrontage &  & 100 &  & NA & 0 & String3 \\\\\n",
       "\t5 & LotArea & 10516.8 & 1300 & 9478.5 & 215245 & 0 & Int64 \\\\\n",
       "\t6 & Street &  & Grvl &  & Pave & 0 & String7 \\\\\n",
       "\t7 & Alley &  & Grvl &  & Pave & 0 & String7 \\\\\n",
       "\t8 & LotShape &  & IR1 &  & Reg & 0 & String3 \\\\\n",
       "\t9 & LandContour &  & Bnk &  & Lvl & 0 & String3 \\\\\n",
       "\t10 & Utilities &  & AllPub &  & NoSeWa & 0 & String7 \\\\\n",
       "\t11 & LotConfig &  & Corner &  & Inside & 0 & String7 \\\\\n",
       "\t12 & LandSlope &  & Gtl &  & Sev & 0 & String3 \\\\\n",
       "\t13 & Neighborhood &  & Blmngtn &  & Veenker & 0 & String7 \\\\\n",
       "\t14 & Condition1 &  & Artery &  & RRNn & 0 & String7 \\\\\n",
       "\t15 & Condition2 &  & Artery &  & RRNn & 0 & String7 \\\\\n",
       "\t16 & BldgType &  & 1Fam &  & TwnhsE & 0 & String7 \\\\\n",
       "\t17 & HouseStyle &  & 1.5Fin &  & SLvl & 0 & String7 \\\\\n",
       "\t18 & OverallQual & 6.09932 & 1 & 6.0 & 10 & 0 & Int64 \\\\\n",
       "\t19 & OverallCond & 5.57534 & 1 & 5.0 & 9 & 0 & Int64 \\\\\n",
       "\t20 & YearBuilt & 1971.27 & 1872 & 1973.0 & 2010 & 0 & Int64 \\\\\n",
       "\t21 & YearRemodAdd & 1984.87 & 1950 & 1994.0 & 2010 & 0 & Int64 \\\\\n",
       "\t22 & RoofStyle &  & Flat &  & Shed & 0 & String7 \\\\\n",
       "\t23 & RoofMatl &  & ClyTile &  & WdShngl & 0 & String7 \\\\\n",
       "\t24 & Exterior1st &  & AsbShng &  & WdShing & 0 & String7 \\\\\n",
       "\t$\\dots$ & $\\dots$ & $\\dots$ & $\\dots$ & $\\dots$ & $\\dots$ & $\\dots$ & $\\dots$ \\\\\n",
       "\\end{tabular}\n"
      ],
      "text/plain": [
       "\u001b[1m81×7 DataFrame\u001b[0m\n",
       "\u001b[1m Row \u001b[0m│\u001b[1m variable      \u001b[0m\u001b[1m mean      \u001b[0m\u001b[1m min     \u001b[0m\u001b[1m median   \u001b[0m\u001b[1m max     \u001b[0m\u001b[1m nmissing \u001b[0m\u001b[1m eltype \u001b[0m ⋯\n",
       "     │\u001b[90m Symbol        \u001b[0m\u001b[90m Union…    \u001b[0m\u001b[90m Any     \u001b[0m\u001b[90m Union…   \u001b[0m\u001b[90m Any     \u001b[0m\u001b[90m Int64    \u001b[0m\u001b[90m DataTyp\u001b[0m ⋯\n",
       "─────┼──────────────────────────────────────────────────────────────────────────\n",
       "   1 │ Id             730.5      1        730.5     1460            0  Int64   ⋯\n",
       "   2 │ MSSubClass     56.8973    20       50.0      190             0  Int64\n",
       "   3 │ MSZoning      \u001b[90m           \u001b[0m C (all) \u001b[90m          \u001b[0m RM              0  String7\n",
       "   4 │ LotFrontage   \u001b[90m           \u001b[0m 100     \u001b[90m          \u001b[0m NA              0  String3\n",
       "   5 │ LotArea        10516.8    1300     9478.5    215245          0  Int64   ⋯\n",
       "   6 │ Street        \u001b[90m           \u001b[0m Grvl    \u001b[90m          \u001b[0m Pave            0  String7\n",
       "   7 │ Alley         \u001b[90m           \u001b[0m Grvl    \u001b[90m          \u001b[0m Pave            0  String7\n",
       "   8 │ LotShape      \u001b[90m           \u001b[0m IR1     \u001b[90m          \u001b[0m Reg             0  String3\n",
       "  ⋮  │       ⋮            ⋮         ⋮        ⋮         ⋮        ⋮         ⋮    ⋱\n",
       "  75 │ MiscFeature   \u001b[90m           \u001b[0m Gar2    \u001b[90m          \u001b[0m TenC            0  String7 ⋯\n",
       "  76 │ MiscVal        43.489     0        0.0       15500           0  Int64\n",
       "  77 │ MoSold         6.32192    1        6.0       12              0  Int64\n",
       "  78 │ YrSold         2007.82    2006     2008.0    2010            0  Int64\n",
       "  79 │ SaleType      \u001b[90m           \u001b[0m COD     \u001b[90m          \u001b[0m WD              0  String7 ⋯\n",
       "  80 │ SaleCondition \u001b[90m           \u001b[0m Abnorml \u001b[90m          \u001b[0m Partial         0  String7\n",
       "  81 │ SalePrice      1.80921e5  34900    163000.0  755000          0  Int64\n",
       "\u001b[36m                                                    1 column and 66 rows omitted\u001b[0m"
      ]
     },
     "metadata": {},
     "output_type": "display_data"
    }
   ],
   "source": [
    "train_df = CSV.read(\"./data/train.csv\", DataFrame)\n",
    "display(describe(train_df))"
   ]
  },
  {
   "cell_type": "code",
   "execution_count": null,
   "metadata": {},
   "outputs": [],
   "source": [
    "#tratar colunas de string para valores numéricos\n",
    "#TODO: conseguir fazer a conversão\n",
    "for column in eachcol(train_df)\n",
    "    if eltype(column) != Int64\n",
    "        #isso está dando erro por algum motivo\n",
    "        train_df[!, column] = categorical(train_df[!, column])\n",
    "        train_df[!, column] = Flux.onehotbatch(df[!, column])\n",
    "    end\n",
    "end\n",
    "\n",
    "#próximos passos: \n",
    "\n",
    "#verificar correlações (precisa de apenas valores numéricos)\n",
    "#corr = cor(Matrix(train_df))\n",
    "\n",
    "#aplicar PCA? também precisa de apenas valores numéricos"
   ]
  }
 ],
 "metadata": {
  "kernelspec": {
   "display_name": "Julia 1.10.5",
   "language": "julia",
   "name": "julia-1.10"
  },
  "language_info": {
   "file_extension": ".jl",
   "mimetype": "application/julia",
   "name": "julia",
   "version": "1.10.5"
  }
 },
 "nbformat": 4,
 "nbformat_minor": 2
}
